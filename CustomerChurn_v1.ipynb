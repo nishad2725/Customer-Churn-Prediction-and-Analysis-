{
 "cells": [
  {
   "cell_type": "code",
   "execution_count": 1,
   "metadata": {
    "id": "_NweVcfGTS0_"
   },
   "outputs": [],
   "source": [
    "import numpy as np\n",
    "import pandas as pd\n",
    "import matplotlib.pyplot as plt\n",
    "import seaborn as sns\n",
    "%matplotlib inline"
   ]
  },
  {
   "cell_type": "code",
   "execution_count": 2,
   "metadata": {
    "id": "GVtw6WpCTS1B"
   },
   "outputs": [],
   "source": [
    "df = pd.read_csv(r\"data.csv\")"
   ]
  },
  {
   "cell_type": "code",
   "execution_count": 3,
   "metadata": {
    "colab": {
     "base_uri": "https://localhost:8080/",
     "height": 261
    },
    "id": "ZIXzL7_8TS1B",
    "outputId": "3caba664-574e-4736-d38f-3fae094f5dbe"
   },
   "outputs": [
    {
     "data": {
      "text/html": [
       "<div>\n",
       "<style scoped>\n",
       "    .dataframe tbody tr th:only-of-type {\n",
       "        vertical-align: middle;\n",
       "    }\n",
       "\n",
       "    .dataframe tbody tr th {\n",
       "        vertical-align: top;\n",
       "    }\n",
       "\n",
       "    .dataframe thead th {\n",
       "        text-align: right;\n",
       "    }\n",
       "</style>\n",
       "<table border=\"1\" class=\"dataframe\">\n",
       "  <thead>\n",
       "    <tr style=\"text-align: right;\">\n",
       "      <th></th>\n",
       "      <th>CustomerID</th>\n",
       "      <th>Churn</th>\n",
       "      <th>Tenure</th>\n",
       "      <th>PreferredLoginDevice</th>\n",
       "      <th>CityTier</th>\n",
       "      <th>WarehouseToHome</th>\n",
       "      <th>PreferredPaymentMode</th>\n",
       "      <th>Gender</th>\n",
       "      <th>HourSpendOnApp</th>\n",
       "      <th>NumberOfDeviceRegistered</th>\n",
       "      <th>PreferedOrderCat</th>\n",
       "      <th>SatisfactionScore</th>\n",
       "      <th>MaritalStatus</th>\n",
       "      <th>NumberOfAddress</th>\n",
       "      <th>Complain</th>\n",
       "      <th>OrderAmountHikeFromlastYear</th>\n",
       "      <th>CouponUsed</th>\n",
       "      <th>OrderCount</th>\n",
       "      <th>DaySinceLastOrder</th>\n",
       "      <th>CashbackAmount</th>\n",
       "    </tr>\n",
       "  </thead>\n",
       "  <tbody>\n",
       "    <tr>\n",
       "      <th>0</th>\n",
       "      <td>50001</td>\n",
       "      <td>1</td>\n",
       "      <td>4.0</td>\n",
       "      <td>Mobile Phone</td>\n",
       "      <td>3</td>\n",
       "      <td>6.0</td>\n",
       "      <td>Debit Card</td>\n",
       "      <td>Female</td>\n",
       "      <td>3.0</td>\n",
       "      <td>3</td>\n",
       "      <td>Laptop &amp; Accessory</td>\n",
       "      <td>2</td>\n",
       "      <td>Single</td>\n",
       "      <td>9</td>\n",
       "      <td>1</td>\n",
       "      <td>11.0</td>\n",
       "      <td>1.0</td>\n",
       "      <td>1.0</td>\n",
       "      <td>5.0</td>\n",
       "      <td>160</td>\n",
       "    </tr>\n",
       "    <tr>\n",
       "      <th>1</th>\n",
       "      <td>50002</td>\n",
       "      <td>1</td>\n",
       "      <td>NaN</td>\n",
       "      <td>Phone</td>\n",
       "      <td>1</td>\n",
       "      <td>8.0</td>\n",
       "      <td>UPI</td>\n",
       "      <td>Male</td>\n",
       "      <td>3.0</td>\n",
       "      <td>4</td>\n",
       "      <td>Mobile</td>\n",
       "      <td>3</td>\n",
       "      <td>Single</td>\n",
       "      <td>7</td>\n",
       "      <td>1</td>\n",
       "      <td>15.0</td>\n",
       "      <td>0.0</td>\n",
       "      <td>1.0</td>\n",
       "      <td>0.0</td>\n",
       "      <td>121</td>\n",
       "    </tr>\n",
       "    <tr>\n",
       "      <th>2</th>\n",
       "      <td>50003</td>\n",
       "      <td>1</td>\n",
       "      <td>NaN</td>\n",
       "      <td>Phone</td>\n",
       "      <td>1</td>\n",
       "      <td>30.0</td>\n",
       "      <td>Debit Card</td>\n",
       "      <td>Male</td>\n",
       "      <td>2.0</td>\n",
       "      <td>4</td>\n",
       "      <td>Mobile</td>\n",
       "      <td>3</td>\n",
       "      <td>Single</td>\n",
       "      <td>6</td>\n",
       "      <td>1</td>\n",
       "      <td>14.0</td>\n",
       "      <td>0.0</td>\n",
       "      <td>1.0</td>\n",
       "      <td>3.0</td>\n",
       "      <td>120</td>\n",
       "    </tr>\n",
       "    <tr>\n",
       "      <th>3</th>\n",
       "      <td>50004</td>\n",
       "      <td>1</td>\n",
       "      <td>0.0</td>\n",
       "      <td>Phone</td>\n",
       "      <td>3</td>\n",
       "      <td>15.0</td>\n",
       "      <td>Debit Card</td>\n",
       "      <td>Male</td>\n",
       "      <td>2.0</td>\n",
       "      <td>4</td>\n",
       "      <td>Laptop &amp; Accessory</td>\n",
       "      <td>5</td>\n",
       "      <td>Single</td>\n",
       "      <td>8</td>\n",
       "      <td>0</td>\n",
       "      <td>23.0</td>\n",
       "      <td>0.0</td>\n",
       "      <td>1.0</td>\n",
       "      <td>3.0</td>\n",
       "      <td>134</td>\n",
       "    </tr>\n",
       "    <tr>\n",
       "      <th>4</th>\n",
       "      <td>50005</td>\n",
       "      <td>1</td>\n",
       "      <td>0.0</td>\n",
       "      <td>Phone</td>\n",
       "      <td>1</td>\n",
       "      <td>12.0</td>\n",
       "      <td>CC</td>\n",
       "      <td>Male</td>\n",
       "      <td>NaN</td>\n",
       "      <td>3</td>\n",
       "      <td>Mobile</td>\n",
       "      <td>5</td>\n",
       "      <td>Single</td>\n",
       "      <td>3</td>\n",
       "      <td>0</td>\n",
       "      <td>11.0</td>\n",
       "      <td>1.0</td>\n",
       "      <td>1.0</td>\n",
       "      <td>3.0</td>\n",
       "      <td>130</td>\n",
       "    </tr>\n",
       "  </tbody>\n",
       "</table>\n",
       "</div>"
      ],
      "text/plain": [
       "   CustomerID  Churn  Tenure PreferredLoginDevice  CityTier  WarehouseToHome  \\\n",
       "0       50001      1     4.0         Mobile Phone         3              6.0   \n",
       "1       50002      1     NaN                Phone         1              8.0   \n",
       "2       50003      1     NaN                Phone         1             30.0   \n",
       "3       50004      1     0.0                Phone         3             15.0   \n",
       "4       50005      1     0.0                Phone         1             12.0   \n",
       "\n",
       "  PreferredPaymentMode  Gender  HourSpendOnApp  NumberOfDeviceRegistered  \\\n",
       "0           Debit Card  Female             3.0                         3   \n",
       "1                  UPI    Male             3.0                         4   \n",
       "2           Debit Card    Male             2.0                         4   \n",
       "3           Debit Card    Male             2.0                         4   \n",
       "4                   CC    Male             NaN                         3   \n",
       "\n",
       "     PreferedOrderCat  SatisfactionScore MaritalStatus  NumberOfAddress  \\\n",
       "0  Laptop & Accessory                  2        Single                9   \n",
       "1              Mobile                  3        Single                7   \n",
       "2              Mobile                  3        Single                6   \n",
       "3  Laptop & Accessory                  5        Single                8   \n",
       "4              Mobile                  5        Single                3   \n",
       "\n",
       "   Complain  OrderAmountHikeFromlastYear  CouponUsed  OrderCount  \\\n",
       "0         1                         11.0         1.0         1.0   \n",
       "1         1                         15.0         0.0         1.0   \n",
       "2         1                         14.0         0.0         1.0   \n",
       "3         0                         23.0         0.0         1.0   \n",
       "4         0                         11.0         1.0         1.0   \n",
       "\n",
       "   DaySinceLastOrder  CashbackAmount  \n",
       "0                5.0             160  \n",
       "1                0.0             121  \n",
       "2                3.0             120  \n",
       "3                3.0             134  \n",
       "4                3.0             130  "
      ]
     },
     "execution_count": 3,
     "metadata": {},
     "output_type": "execute_result"
    }
   ],
   "source": [
    "df.head()"
   ]
  },
  {
   "cell_type": "code",
   "execution_count": 4,
   "metadata": {
    "colab": {
     "base_uri": "https://localhost:8080/"
    },
    "id": "YoYaXCsyTS1C",
    "outputId": "60388038-571e-4a37-ccc0-8d1d3b36e216"
   },
   "outputs": [
    {
     "data": {
      "text/plain": [
       "CustomerID                       0\n",
       "Churn                            0\n",
       "Tenure                         264\n",
       "PreferredLoginDevice             0\n",
       "CityTier                         0\n",
       "WarehouseToHome                251\n",
       "PreferredPaymentMode             0\n",
       "Gender                           0\n",
       "HourSpendOnApp                 255\n",
       "NumberOfDeviceRegistered         0\n",
       "PreferedOrderCat                 0\n",
       "SatisfactionScore                0\n",
       "MaritalStatus                    0\n",
       "NumberOfAddress                  0\n",
       "Complain                         0\n",
       "OrderAmountHikeFromlastYear    265\n",
       "CouponUsed                     256\n",
       "OrderCount                     258\n",
       "DaySinceLastOrder              307\n",
       "CashbackAmount                   0\n",
       "dtype: int64"
      ]
     },
     "execution_count": 4,
     "metadata": {},
     "output_type": "execute_result"
    }
   ],
   "source": [
    "df.isnull().sum()"
   ]
  },
  {
   "cell_type": "code",
   "execution_count": 5,
   "metadata": {
    "colab": {
     "base_uri": "https://localhost:8080/"
    },
    "id": "tc8pm3A1W-wa",
    "outputId": "6ec3e76c-fbc7-4500-ca3f-0b45e0f4887c"
   },
   "outputs": [
    {
     "data": {
      "text/plain": [
       "CustomerID                     0.00\n",
       "Churn                          0.00\n",
       "Tenure                         4.69\n",
       "PreferredLoginDevice           0.00\n",
       "CityTier                       0.00\n",
       "WarehouseToHome                4.46\n",
       "PreferredPaymentMode           0.00\n",
       "Gender                         0.00\n",
       "HourSpendOnApp                 4.53\n",
       "NumberOfDeviceRegistered       0.00\n",
       "PreferedOrderCat               0.00\n",
       "SatisfactionScore              0.00\n",
       "MaritalStatus                  0.00\n",
       "NumberOfAddress                0.00\n",
       "Complain                       0.00\n",
       "OrderAmountHikeFromlastYear    4.71\n",
       "CouponUsed                     4.55\n",
       "OrderCount                     4.58\n",
       "DaySinceLastOrder              5.45\n",
       "CashbackAmount                 0.00\n",
       "dtype: float64"
      ]
     },
     "execution_count": 5,
     "metadata": {},
     "output_type": "execute_result"
    }
   ],
   "source": [
    "round((df.isnull().sum()*100 / df.shape[0]),2)"
   ]
  },
  {
   "cell_type": "code",
   "execution_count": 6,
   "metadata": {
    "colab": {
     "base_uri": "https://localhost:8080/",
     "height": 636
    },
    "id": "hxAWew3-XARn",
    "outputId": "e6b4f57f-28d6-4908-eb8c-e4375195416b"
   },
   "outputs": [
    {
     "ename": "ModuleNotFoundError",
     "evalue": "No module named 'missingno'",
     "output_type": "error",
     "traceback": [
      "\u001b[0;31m---------------------------------------------------------------------------\u001b[0m",
      "\u001b[0;31mModuleNotFoundError\u001b[0m                       Traceback (most recent call last)",
      "Cell \u001b[0;32mIn[6], line 1\u001b[0m\n\u001b[0;32m----> 1\u001b[0m \u001b[38;5;28;01mimport\u001b[39;00m \u001b[38;5;21;01mmissingno\u001b[39;00m \u001b[38;5;28;01mas\u001b[39;00m \u001b[38;5;21;01mmsno\u001b[39;00m\n\u001b[1;32m      2\u001b[0m msno\u001b[38;5;241m.\u001b[39mmatrix(df)\n",
      "\u001b[0;31mModuleNotFoundError\u001b[0m: No module named 'missingno'"
     ]
    }
   ],
   "source": [
    "import missingno as msno\n",
    "msno.matrix(df)"
   ]
  },
  {
   "cell_type": "code",
   "execution_count": null,
   "metadata": {
    "colab": {
     "base_uri": "https://localhost:8080/",
     "height": 656
    },
    "id": "MRmAZdFJXOpu",
    "outputId": "7237959a-86c8-43d0-8e1e-c613fde13eeb"
   },
   "outputs": [],
   "source": [
    "msno.bar(df , color=\"tab:green\")"
   ]
  },
  {
   "cell_type": "code",
   "execution_count": null,
   "metadata": {
    "colab": {
     "base_uri": "https://localhost:8080/",
     "height": 466
    },
    "id": "cuqDO2hEXTMI",
    "outputId": "ed8ad73f-6c8d-4ce7-a219-154a7f7b3a8b"
   },
   "outputs": [],
   "source": [
    "sns.kdeplot(df , x='Tenure')"
   ]
  },
  {
   "cell_type": "code",
   "execution_count": null,
   "metadata": {
    "id": "5vp8UwgYXg_R"
   },
   "outputs": [],
   "source": [
    "# impute with bfill Method\n",
    "df['Tenure'] = df['Tenure'].fillna(method = 'bfill')"
   ]
  },
  {
   "cell_type": "code",
   "execution_count": null,
   "metadata": {
    "colab": {
     "base_uri": "https://localhost:8080/"
    },
    "id": "xyuNYEQAXlVx",
    "outputId": "b1a49fc9-5eb4-4077-ec55-2984ae964646"
   },
   "outputs": [],
   "source": [
    "df['Tenure'].isnull().sum()"
   ]
  },
  {
   "cell_type": "code",
   "execution_count": null,
   "metadata": {
    "colab": {
     "base_uri": "https://localhost:8080/",
     "height": 466
    },
    "id": "Sd7DorpLXoCe",
    "outputId": "e57c6e4e-d8bc-4d34-9dcd-a0e4d336674a"
   },
   "outputs": [],
   "source": [
    "sns.kdeplot(df , x='WarehouseToHome')"
   ]
  },
  {
   "cell_type": "code",
   "execution_count": null,
   "metadata": {
    "id": "PmYOJNcNXqeb"
   },
   "outputs": [],
   "source": [
    "# Impute with simple imputer\n",
    "from sklearn.impute import SimpleImputer\n",
    "s_imp = SimpleImputer(missing_values=np.nan , strategy = 'most_frequent')\n",
    "df['WarehouseToHome'] = s_imp.fit_transform(pd.DataFrame(df['WarehouseToHome']))"
   ]
  },
  {
   "cell_type": "code",
   "execution_count": null,
   "metadata": {
    "colab": {
     "base_uri": "https://localhost:8080/",
     "height": 466
    },
    "id": "MXT3-CTmXxKT",
    "outputId": "c4d75696-f0a0-4824-af14-a2af11665bbb"
   },
   "outputs": [],
   "source": [
    "sns.kdeplot(df , x='WarehouseToHome')"
   ]
  },
  {
   "cell_type": "code",
   "execution_count": null,
   "metadata": {
    "colab": {
     "base_uri": "https://localhost:8080/"
    },
    "id": "tH0P3ihIX0Yr",
    "outputId": "60a9078e-566a-49b4-c72f-0d0633a94319"
   },
   "outputs": [],
   "source": [
    "df['WarehouseToHome'].isnull().sum()"
   ]
  },
  {
   "cell_type": "code",
   "execution_count": null,
   "metadata": {
    "colab": {
     "base_uri": "https://localhost:8080/",
     "height": 469
    },
    "id": "q8VNBNcQX2nF",
    "outputId": "68166922-9b25-46f0-f8a7-3ea4385c5a28"
   },
   "outputs": [],
   "source": [
    "sns.kdeplot(df , x='HourSpendOnApp')"
   ]
  },
  {
   "cell_type": "code",
   "execution_count": null,
   "metadata": {
    "id": "UQhos2gHX33r"
   },
   "outputs": [],
   "source": [
    "fill_list = df['HourSpendOnApp'].dropna()\n",
    "df['HourSpendOnApp'] = df['HourSpendOnApp'].fillna(pd.Series(np.random.choice(fill_list , size = len(df['HourSpendOnApp'].index))))"
   ]
  },
  {
   "cell_type": "code",
   "execution_count": null,
   "metadata": {
    "colab": {
     "base_uri": "https://localhost:8080/",
     "height": 466
    },
    "id": "ImgNalK-X6zq",
    "outputId": "610c6a53-c5ae-47ef-b299-88b0a2797f59"
   },
   "outputs": [],
   "source": [
    "sns.kdeplot(df , x='HourSpendOnApp')"
   ]
  },
  {
   "cell_type": "code",
   "execution_count": null,
   "metadata": {
    "colab": {
     "base_uri": "https://localhost:8080/"
    },
    "id": "hmQT5RoWX9pn",
    "outputId": "c47fa914-4563-48e2-f893-34c3843c36c0"
   },
   "outputs": [],
   "source": [
    "df['HourSpendOnApp'].isnull().sum()"
   ]
  },
  {
   "cell_type": "code",
   "execution_count": null,
   "metadata": {
    "colab": {
     "base_uri": "https://localhost:8080/",
     "height": 466
    },
    "id": "NUWcmMa-YCLE",
    "outputId": "d44b3f20-b1b8-4893-bb9a-7c47fddd21d6"
   },
   "outputs": [],
   "source": [
    "sns.kdeplot(df , x='OrderAmountHikeFromlastYear')"
   ]
  },
  {
   "cell_type": "code",
   "execution_count": null,
   "metadata": {
    "id": "iusruatuYE7C"
   },
   "outputs": [],
   "source": [
    "# impute with ffill method\n",
    "df['OrderAmountHikeFromlastYear'] = df['OrderAmountHikeFromlastYear'].fillna(method = 'ffill')"
   ]
  },
  {
   "cell_type": "code",
   "execution_count": null,
   "metadata": {
    "colab": {
     "base_uri": "https://localhost:8080/",
     "height": 466
    },
    "id": "BIytvUaWYFse",
    "outputId": "5007e33c-7176-4573-8658-50a162839dd1"
   },
   "outputs": [],
   "source": [
    "sns.kdeplot(df , x='OrderAmountHikeFromlastYear')"
   ]
  },
  {
   "cell_type": "code",
   "execution_count": null,
   "metadata": {
    "colab": {
     "base_uri": "https://localhost:8080/"
    },
    "id": "i4zqK1DDYIy6",
    "outputId": "10e5a301-c5b8-49e3-e528-286d47a78884"
   },
   "outputs": [],
   "source": [
    "df['OrderAmountHikeFromlastYear'].isnull().sum()"
   ]
  },
  {
   "cell_type": "code",
   "execution_count": null,
   "metadata": {
    "colab": {
     "base_uri": "https://localhost:8080/",
     "height": 466
    },
    "id": "iptzXUb8YLhr",
    "outputId": "c31a2cbe-75e6-4e97-f011-2e3c15bf2890"
   },
   "outputs": [],
   "source": [
    "sns.kdeplot(df , x='CouponUsed')"
   ]
  },
  {
   "cell_type": "code",
   "execution_count": null,
   "metadata": {
    "id": "f6ap0fkRYP-Y"
   },
   "outputs": [],
   "source": [
    "# Impute with KNN Imputer\n",
    "from sklearn.impute import KNNImputer\n",
    "imputer = KNNImputer(n_neighbors=2)\n",
    "df['CouponUsed']=imputer.fit_transform(df[['CouponUsed']])"
   ]
  },
  {
   "cell_type": "code",
   "execution_count": null,
   "metadata": {
    "colab": {
     "base_uri": "https://localhost:8080/",
     "height": 466
    },
    "id": "2rV9dDRgYSfe",
    "outputId": "f6498fab-439e-4f4e-b102-922800eb06ca"
   },
   "outputs": [],
   "source": [
    "sns.kdeplot(df , x='CouponUsed')"
   ]
  },
  {
   "cell_type": "code",
   "execution_count": null,
   "metadata": {
    "colab": {
     "base_uri": "https://localhost:8080/"
    },
    "id": "gLUbotQ3YVEQ",
    "outputId": "cb2bd703-a471-4f88-9993-33c3ad2ef0a0"
   },
   "outputs": [],
   "source": [
    "df['CouponUsed'].isnull().sum()"
   ]
  },
  {
   "cell_type": "code",
   "execution_count": null,
   "metadata": {
    "colab": {
     "base_uri": "https://localhost:8080/",
     "height": 466
    },
    "id": "e1kLqXr3YW_c",
    "outputId": "2b2d3477-bafe-4b83-ed14-2b35aeeb7923"
   },
   "outputs": [],
   "source": [
    "sns.kdeplot(df , x='OrderCount')"
   ]
  },
  {
   "cell_type": "code",
   "execution_count": null,
   "metadata": {
    "id": "KYEsCblNYYAl"
   },
   "outputs": [],
   "source": [
    "# Impute with KNN imputer\n",
    "imputer_2 = KNNImputer(n_neighbors=2)\n",
    "df['OrderCount']=imputer_2.fit_transform(df[['OrderCount']])"
   ]
  },
  {
   "cell_type": "code",
   "execution_count": null,
   "metadata": {
    "colab": {
     "base_uri": "https://localhost:8080/",
     "height": 468
    },
    "id": "SF1NknblYcIz",
    "outputId": "07cee8ef-dbf3-44fb-fc10-2d3faa831e85"
   },
   "outputs": [],
   "source": [
    "sns.kdeplot(df , x='OrderCount')"
   ]
  },
  {
   "cell_type": "code",
   "execution_count": null,
   "metadata": {
    "colab": {
     "base_uri": "https://localhost:8080/"
    },
    "id": "MGboNsSrYdSt",
    "outputId": "0d573bf7-b9d5-40c5-e4d5-5e054ce57f49"
   },
   "outputs": [],
   "source": [
    "df['OrderCount'].isnull().sum()"
   ]
  },
  {
   "cell_type": "code",
   "execution_count": null,
   "metadata": {
    "colab": {
     "base_uri": "https://localhost:8080/",
     "height": 469
    },
    "id": "KsJXKG5BYjB1",
    "outputId": "21e50d86-bec1-4251-e7a4-a42a91fef5da"
   },
   "outputs": [],
   "source": [
    "sns.kdeplot(df , x='DaySinceLastOrder')"
   ]
  },
  {
   "cell_type": "code",
   "execution_count": null,
   "metadata": {
    "id": "CrEym36NYm97"
   },
   "outputs": [],
   "source": [
    "# impute with bfill Method\n",
    "df['DaySinceLastOrder'] = df['DaySinceLastOrder'].fillna(method = 'bfill')"
   ]
  },
  {
   "cell_type": "code",
   "execution_count": null,
   "metadata": {
    "colab": {
     "base_uri": "https://localhost:8080/",
     "height": 471
    },
    "id": "Wvp08vlFYpR3",
    "outputId": "792dde5a-2380-49eb-f318-ceaddc6758dd"
   },
   "outputs": [],
   "source": [
    "sns.kdeplot(df , x='DaySinceLastOrder')"
   ]
  },
  {
   "cell_type": "code",
   "execution_count": null,
   "metadata": {
    "colab": {
     "base_uri": "https://localhost:8080/"
    },
    "id": "PpnPDRwfYsSd",
    "outputId": "95c38d0d-fab3-46c5-e76c-c9248512399c"
   },
   "outputs": [],
   "source": [
    "df['DaySinceLastOrder'].isnull().sum()"
   ]
  },
  {
   "cell_type": "code",
   "execution_count": null,
   "metadata": {
    "colab": {
     "base_uri": "https://localhost:8080/"
    },
    "id": "kh3HJwjXYvrs",
    "outputId": "7384d982-bcc1-46ad-8b06-55bb51e61cfb"
   },
   "outputs": [],
   "source": [
    "df.isnull().sum()"
   ]
  },
  {
   "cell_type": "code",
   "execution_count": null,
   "metadata": {
    "colab": {
     "base_uri": "https://localhost:8080/"
    },
    "id": "BfugUHzsTS1C",
    "outputId": "5ca28741-a3e3-421a-89e4-022576c7afa5"
   },
   "outputs": [],
   "source": [
    "for i in df.columns:\n",
    "    if df[i].dtypes == 'object':\n",
    "        print(i)\n",
    "        print()\n",
    "        print('the values are:')\n",
    "        print(df[i].value_counts())\n",
    "        print()\n",
    "        print()"
   ]
  },
  {
   "cell_type": "code",
   "execution_count": null,
   "metadata": {
    "colab": {
     "base_uri": "https://localhost:8080/",
     "height": 180
    },
    "id": "odBNDpHPTS1D",
    "outputId": "2eb2c290-f31b-48ef-bc82-3bc564a4b39c"
   },
   "outputs": [],
   "source": [
    "df.head(3)"
   ]
  },
  {
   "cell_type": "code",
   "execution_count": null,
   "metadata": {
    "colab": {
     "base_uri": "https://localhost:8080/"
    },
    "id": "c9BOfY08TS1D",
    "outputId": "b54901b6-5005-4f5f-b563-737a131c5ff4"
   },
   "outputs": [],
   "source": [
    "print(df.columns.values)"
   ]
  },
  {
   "cell_type": "code",
   "execution_count": null,
   "metadata": {
    "colab": {
     "base_uri": "https://localhost:8080/"
    },
    "id": "Okp2aLgzTS1D",
    "outputId": "93d26b9f-64d6-4348-9d86-131adc445875"
   },
   "outputs": [],
   "source": [
    "df.dtypes"
   ]
  },
  {
   "cell_type": "markdown",
   "metadata": {
    "id": "-dCcS-zOTS1D"
   },
   "source": [
    "Categorical:\n",
    "\n",
    "Nominal:\n",
    "CustomerID (Unique customer ID)\n",
    "Churn (Churn Flag)\n",
    "PreferredLoginDevice (Preferred login device of customer)\n",
    "PreferredPaymentMode (Preferred payment method of customer)\n",
    "Gender (Gender of customer)\n",
    "PreferedOrderCat (Preferred order category of customer in last month)\n",
    "MaritalStatus (Marital status of customer)\n",
    "Complain (Any complaint has been raised in last month)\n",
    "\n",
    "Ordinal:\n",
    "CityTier (City tier)\n",
    "SatisfactionScore\n",
    "\n",
    "Numerical:\n",
    "\n",
    "Discrete:\n",
    "\n",
    "NumberOfDeviceRegistered (Total number of devices registered by a particular customer)\n",
    "NumberOfAddress (Total number of addresses added by a particular customer)\n",
    "CouponUsed (Total number of coupons used in last month)\n",
    "OrderCount (Total number of orders placed in last month)\n",
    "DaySinceLastOrder (Days since last order by customer)\n",
    "\n",
    "Continuous:\n",
    "\n",
    "Tenure (Tenure of customer in organization)\n",
    "WarehouseToHome (Distance in between warehouse to home of customer)\n",
    "HourSpendOnApp (Number of hours spent on mobile application or website)\n",
    "OrderAmountHikeFromlastYear (Percentage increase in order from last year)\n",
    "CashbackAmount (Average cashback in last month)"
   ]
  },
  {
   "cell_type": "code",
   "execution_count": null,
   "metadata": {
    "colab": {
     "base_uri": "https://localhost:8080/",
     "height": 295
    },
    "id": "mzNO96obTS1F",
    "outputId": "84434352-cefe-44ba-97c6-10acf8a1d6b2"
   },
   "outputs": [],
   "source": [
    "df.tail()"
   ]
  },
  {
   "cell_type": "code",
   "execution_count": null,
   "metadata": {
    "colab": {
     "base_uri": "https://localhost:8080/",
     "height": 320
    },
    "id": "BVcjvXW8TS1G",
    "outputId": "93343f22-65fc-4179-a345-9446b737d081"
   },
   "outputs": [],
   "source": [
    "df.describe()"
   ]
  },
  {
   "cell_type": "markdown",
   "metadata": {
    "id": "2pTeJkmpTS1H"
   },
   "source": [
    "Observations:\n",
    "\n",
    "1. Churn Rate is approx 17%\n",
    "2. Avg tenure is approx 10 months\n",
    "3. Max tenure of a customer is 61 months"
   ]
  },
  {
   "cell_type": "code",
   "execution_count": null,
   "metadata": {
    "colab": {
     "base_uri": "https://localhost:8080/",
     "height": 174
    },
    "id": "PgSs84h4TS1H",
    "outputId": "ba1b5069-d0cf-4f1a-fb8d-3d53d707daab"
   },
   "outputs": [],
   "source": [
    "df.describe(include=['O'])"
   ]
  },
  {
   "cell_type": "code",
   "execution_count": null,
   "metadata": {
    "colab": {
     "base_uri": "https://localhost:8080/"
    },
    "id": "H193Q5qeTS1H",
    "outputId": "89c07b49-a503-497f-a5fe-0967f2d09ac1",
    "scrolled": true
   },
   "outputs": [],
   "source": [
    "df.isnull().sum()"
   ]
  },
  {
   "cell_type": "code",
   "execution_count": null,
   "metadata": {
    "colab": {
     "base_uri": "https://localhost:8080/"
    },
    "id": "9dYGBJE3TS1I",
    "outputId": "137b931e-cf7d-4153-d054-1dd2eb607a0a"
   },
   "outputs": [],
   "source": [
    "df.shape"
   ]
  },
  {
   "cell_type": "code",
   "execution_count": null,
   "metadata": {
    "colab": {
     "base_uri": "https://localhost:8080/",
     "height": 143
    },
    "id": "ckGhSZwvTS1I",
    "outputId": "d2bb3d64-61a2-48ac-80c5-b2707d48a451"
   },
   "outputs": [],
   "source": [
    "df[['PreferredLoginDevice', 'Churn']].groupby(['PreferredLoginDevice'], as_index=False).mean().sort_values(by='Churn', ascending=False)"
   ]
  },
  {
   "cell_type": "code",
   "execution_count": null,
   "metadata": {
    "colab": {
     "base_uri": "https://localhost:8080/",
     "height": 143
    },
    "id": "CrUrCM66TS1I",
    "outputId": "8c264ed8-57fc-4f31-c15c-a50c5ea6d479"
   },
   "outputs": [],
   "source": [
    "df[['CityTier', 'Churn']].groupby(['CityTier'], as_index=False).mean().sort_values(by='Churn', ascending=False)"
   ]
  },
  {
   "cell_type": "code",
   "execution_count": null,
   "metadata": {
    "colab": {
     "base_uri": "https://localhost:8080/",
     "height": 269
    },
    "id": "Sm38NUk4TS1J",
    "outputId": "1e2efb52-ad7b-47c6-edd3-a7a10bad4251"
   },
   "outputs": [],
   "source": [
    "df[['PreferredPaymentMode', 'Churn']].groupby(['PreferredPaymentMode'], as_index=False).mean().sort_values(by='Churn', ascending=False)"
   ]
  },
  {
   "cell_type": "code",
   "execution_count": null,
   "metadata": {
    "colab": {
     "base_uri": "https://localhost:8080/",
     "height": 112
    },
    "id": "kvNIAqqLTS1J",
    "outputId": "e6ba05f8-302d-4926-94b4-2bad6011b215"
   },
   "outputs": [],
   "source": [
    "df[['Gender', 'Churn']].groupby(['Gender'], as_index=False).mean().sort_values(by='Churn', ascending=False)"
   ]
  },
  {
   "cell_type": "code",
   "execution_count": null,
   "metadata": {
    "colab": {
     "base_uri": "https://localhost:8080/",
     "height": 237
    },
    "id": "0N3ukac0TS1J",
    "outputId": "eb5195d8-4d94-4696-b004-b520a9331afe"
   },
   "outputs": [],
   "source": [
    "df[['NumberOfDeviceRegistered', 'Churn']].groupby(['NumberOfDeviceRegistered'], as_index=False).mean().sort_values(by='Churn', ascending=False)"
   ]
  },
  {
   "cell_type": "code",
   "execution_count": null,
   "metadata": {
    "colab": {
     "base_uri": "https://localhost:8080/",
     "height": 237
    },
    "id": "VcssMo0nTS1J",
    "outputId": "f75c4984-c85f-4ab0-8bfc-8180b940ab7d"
   },
   "outputs": [],
   "source": [
    "df[['PreferedOrderCat', 'Churn']].groupby(['PreferedOrderCat'], as_index=False).mean().sort_values(by='Churn', ascending=False)"
   ]
  },
  {
   "cell_type": "code",
   "execution_count": null,
   "metadata": {
    "colab": {
     "base_uri": "https://localhost:8080/",
     "height": 206
    },
    "id": "UXwoItf-TS1J",
    "outputId": "5de68dea-fb8d-4a22-c721-e6ef41d005a9"
   },
   "outputs": [],
   "source": [
    "df[['SatisfactionScore', 'Churn']].groupby(['SatisfactionScore'], as_index=False).mean().sort_values(by='Churn', ascending=False)"
   ]
  },
  {
   "cell_type": "code",
   "execution_count": null,
   "metadata": {
    "colab": {
     "base_uri": "https://localhost:8080/",
     "height": 143
    },
    "id": "Q3jS04wrTS1K",
    "outputId": "c2280ab9-0ed1-4e9b-ac2d-f7988166c0bb"
   },
   "outputs": [],
   "source": [
    "df[['MaritalStatus', 'Churn']].groupby(['MaritalStatus'], as_index=False).mean().sort_values(by='Churn', ascending=False)"
   ]
  },
  {
   "cell_type": "code",
   "execution_count": null,
   "metadata": {
    "colab": {
     "base_uri": "https://localhost:8080/",
     "height": 112
    },
    "id": "n9wTtWotTS1K",
    "outputId": "e613e1d6-56b0-461e-f758-71dfba80ae60"
   },
   "outputs": [],
   "source": [
    "df[['Complain', 'Churn']].groupby(['Complain'], as_index=False).mean().sort_values(by='Churn', ascending=False)"
   ]
  },
  {
   "cell_type": "code",
   "execution_count": null,
   "metadata": {
    "colab": {
     "base_uri": "https://localhost:8080/",
     "height": 519
    },
    "id": "BWJAObB1TS1K",
    "outputId": "6afd8d48-6144-444a-955f-09e9b9e74ffa"
   },
   "outputs": [],
   "source": [
    "df[['NumberOfAddress', 'Churn']].groupby(['NumberOfAddress'], as_index=False).mean().sort_values(by='Churn', ascending=False)"
   ]
  },
  {
   "cell_type": "code",
   "execution_count": null,
   "metadata": {
    "colab": {
     "base_uri": "https://localhost:8080/",
     "height": 324
    },
    "id": "TaCjg1wcTS1K",
    "outputId": "7cef45af-0656-4bc6-c657-675bfd498f6f"
   },
   "outputs": [],
   "source": [
    "g = sns.FacetGrid(df, col='Churn')\n",
    "g.map(plt.hist, 'Tenure', bins=20)"
   ]
  },
  {
   "cell_type": "code",
   "execution_count": null,
   "metadata": {
    "colab": {
     "base_uri": "https://localhost:8080/",
     "height": 953
    },
    "id": "bd_7sLABTS1K",
    "outputId": "d0263c48-7dcc-49e4-b732-2d349be19254"
   },
   "outputs": [],
   "source": [
    "correlation_matrix = df.corr()\n",
    "\n",
    "# Create a heatmap using Seaborn\n",
    "plt.figure(figsize=(10, 8))\n",
    "sns.heatmap(correlation_matrix, annot=True, cmap=\"coolwarm\", fmt=\".3f\")\n",
    "plt.title(\"Correlation Heatmap\")\n",
    "plt.show()"
   ]
  },
  {
   "cell_type": "markdown",
   "metadata": {
    "id": "jKvGxhCiTS1L"
   },
   "source": [
    "tenure is negatively correlated with churn, customers who have been with the company for a longer time are less likely to churn compared to shorter tenures."
   ]
  },
  {
   "cell_type": "code",
   "execution_count": null,
   "metadata": {
    "colab": {
     "base_uri": "https://localhost:8080/"
    },
    "id": "X1BdwpMsTS1L",
    "outputId": "fd356010-fb27-4539-9564-b6dd97c3ac05"
   },
   "outputs": [],
   "source": [
    "df.nunique()\n"
   ]
  },
  {
   "cell_type": "code",
   "execution_count": null,
   "metadata": {
    "colab": {
     "base_uri": "https://localhost:8080/",
     "height": 537
    },
    "id": "H6ym6nV8TS1L",
    "outputId": "31678f7d-a42e-4fbd-d8c8-cc8d76162ae3"
   },
   "outputs": [],
   "source": [
    "plt.figure(figsize=(8, 6))\n",
    "df['Churn'].value_counts().plot(kind='bar')\n",
    "plt.xlabel('Churn')\n",
    "plt.ylabel('Counts')\n",
    "plt.show()"
   ]
  },
  {
   "cell_type": "markdown",
   "metadata": {
    "id": "9iD5q8GqTS1L"
   },
   "source": [
    "The number of customers who stayed with the service is higher than those who churned, with a ratio of approximately 5 to 1. This indicates a low churn rate, which is typically expected, resulting in an imbalanced dataset.\n",
    "\n",
    "To handle this data imbalance, we will oversample the minority class. (we can use SMOTE)"
   ]
  },
  {
   "cell_type": "code",
   "execution_count": null,
   "metadata": {
    "colab": {
     "base_uri": "https://localhost:8080/",
     "height": 472
    },
    "id": "a8wS9GosTS1L",
    "outputId": "97f46eec-dc4d-4c34-8628-9ac178e61431"
   },
   "outputs": [],
   "source": [
    "sns.countplot(x='SatisfactionScore', hue='Churn',  data=df)\n",
    "plt.title(\"Distribution of Satisfaction Score for Churned and Retained customers\")\n",
    "plt.show()"
   ]
  },
  {
   "cell_type": "code",
   "execution_count": null,
   "metadata": {
    "colab": {
     "base_uri": "https://localhost:8080/",
     "height": 472
    },
    "id": "Li-lzPfZTS1L",
    "outputId": "7a5669f0-7f91-4fdc-d049-aebf0b4f8799"
   },
   "outputs": [],
   "source": [
    "sns.countplot(x='Complain', hue='Churn',  data=df)\n",
    "plt.title(\"Distribution of Complain for Churned and Retained customers\")\n",
    "plt.show()"
   ]
  },
  {
   "cell_type": "markdown",
   "metadata": {
    "id": "RwbPDYcYTS1M"
   },
   "source": [
    "churn rate for customers with complain is higher than those without"
   ]
  },
  {
   "cell_type": "code",
   "execution_count": null,
   "metadata": {
    "colab": {
     "base_uri": "https://localhost:8080/",
     "height": 498
    },
    "id": "9bLe47TUTS1M",
    "outputId": "fe725035-9c5f-472c-f78d-0a2b1b250219"
   },
   "outputs": [],
   "source": [
    "plt.figure(figsize=(16, 6))\n",
    "sns.countplot(x='Tenure', hue='Churn',  data=df)\n",
    "plt.title(\"Distribution of Tenure for Churned and Retained customers\")\n",
    "plt.show()"
   ]
  },
  {
   "cell_type": "markdown",
   "metadata": {
    "id": "WanxCBEuTS1M"
   },
   "source": [
    "customers with a lower tenure are more likely to churn"
   ]
  },
  {
   "cell_type": "code",
   "execution_count": null,
   "metadata": {
    "colab": {
     "base_uri": "https://localhost:8080/",
     "height": 472
    },
    "id": "6l88VZ11TS1M",
    "outputId": "fb85918f-5e86-4ea8-ce5f-f923ba286b0d"
   },
   "outputs": [],
   "source": [
    "sns.countplot(x='CityTier', hue='Churn',  data=df)\n",
    "plt.title(\"Distribution of CityTier for Churned and Retained customers\")\n",
    "plt.show()"
   ]
  },
  {
   "cell_type": "code",
   "execution_count": null,
   "metadata": {
    "colab": {
     "base_uri": "https://localhost:8080/",
     "height": 472
    },
    "id": "imzJHNnOTS1M",
    "outputId": "1916d094-3c9f-4a72-9989-d0ee46affb18"
   },
   "outputs": [],
   "source": [
    "sns.countplot(x='MaritalStatus', hue='Churn',  data=df)\n",
    "plt.title(\"Distribution of MaritalStatus for Churned and Retained customers\")\n",
    "plt.show()"
   ]
  },
  {
   "cell_type": "code",
   "execution_count": null,
   "metadata": {
    "id": "ojiuvByNTS1M"
   },
   "outputs": [],
   "source": [
    "#import plotly.graph_objects as go\n",
    "#from plotly.subplots import make_subplots\n",
    "binary_cat_cols = ['Complain']\n",
    "outcome = ['Churn']\n",
    "cat_cols = ['PreferredLoginDevice', 'CityTier', 'PreferredPaymentMode',\n",
    "       'Gender', 'NumberOfDeviceRegistered', 'PreferedOrderCat',\n",
    "       'SatisfactionScore', 'MaritalStatus', 'NumberOfAddress', 'Complain']\n",
    "num_cols = ['Tenure', 'WarehouseToHome', 'HourSpendOnApp', 'OrderAmountHikeFromlastYear', 'CouponUsed', 'OrderCount', 'DaySinceLastOrder', 'CashbackAmount']"
   ]
  },
  {
   "cell_type": "code",
   "execution_count": null,
   "metadata": {
    "colab": {
     "base_uri": "https://localhost:8080/",
     "height": 983
    },
    "id": "oPTj4eDNTS1N",
    "outputId": "ba56c5bb-e02e-4ebb-e1cd-d5dd38e76244"
   },
   "outputs": [],
   "source": [
    "df_c = df[df['Churn']==1].copy()\n",
    "df_nc = df[df['Churn']==0].copy()\n",
    "\n",
    "fig, ax = plt.subplots(2,4,figsize=(20, 15))\n",
    "fig.suptitle('Density of Numeric Features by Churn', fontsize=20)\n",
    "ax = ax.flatten()\n",
    "\n",
    "for idx,c in enumerate(num_cols):\n",
    "    sns.kdeplot(df_c[c], linewidth= 3,\n",
    "             label = 'Churn',ax=ax[idx])\n",
    "    sns.kdeplot(df_nc[c], linewidth= 3,\n",
    "             label = 'No Churn',ax=ax[idx])\n",
    "\n",
    "    ax[idx].legend(loc='upper right')\n",
    "\n",
    "plt.show()"
   ]
  },
  {
   "cell_type": "code",
   "execution_count": null,
   "metadata": {
    "colab": {
     "base_uri": "https://localhost:8080/"
    },
    "id": "HvgmwBiPTS1N",
    "outputId": "c6f3312e-4fef-4667-ba9f-ab4b920e71e8"
   },
   "outputs": [],
   "source": [
    "df.shape"
   ]
  },
  {
   "cell_type": "code",
   "execution_count": null,
   "metadata": {
    "colab": {
     "base_uri": "https://localhost:8080/",
     "height": 261
    },
    "id": "PNjrOzI5TS1N",
    "outputId": "82c1d3c0-5d85-4362-bbac-9154389082fb"
   },
   "outputs": [],
   "source": [
    "df.head()"
   ]
  },
  {
   "cell_type": "code",
   "execution_count": null,
   "metadata": {
    "colab": {
     "base_uri": "https://localhost:8080/"
    },
    "id": "Cgp6CqNQTS1N",
    "outputId": "967c9261-861f-4bac-8fec-f697beb73cae"
   },
   "outputs": [],
   "source": [
    "df.isnull().sum()"
   ]
  },
  {
   "cell_type": "code",
   "execution_count": null,
   "metadata": {
    "id": "fVkP2yuITS1O"
   },
   "outputs": [],
   "source": [
    "dataframe=df.copy()\n",
    "df1=df.copy()\n"
   ]
  },
  {
   "cell_type": "code",
   "execution_count": null,
   "metadata": {
    "colab": {
     "base_uri": "https://localhost:8080/",
     "height": 261
    },
    "id": "rkG4LWtPTS1O",
    "outputId": "d289e337-aeb5-4617-a0fc-700bc766d27e"
   },
   "outputs": [],
   "source": [
    "df1.head()"
   ]
  },
  {
   "cell_type": "code",
   "execution_count": null,
   "metadata": {
    "id": "-fEy6u3WTS1O"
   },
   "outputs": [],
   "source": [
    "df1.dropna(inplace=True)"
   ]
  },
  {
   "cell_type": "code",
   "execution_count": null,
   "metadata": {
    "colab": {
     "base_uri": "https://localhost:8080/"
    },
    "id": "2QXnmzEGTS1O",
    "outputId": "e2554224-542c-41c0-ae75-dfd880d5e9dd"
   },
   "outputs": [],
   "source": [
    "df1.isnull().sum()"
   ]
  },
  {
   "cell_type": "code",
   "execution_count": null,
   "metadata": {
    "id": "yNuudF9VTS1O"
   },
   "outputs": [],
   "source": [
    "df1['PreferredLoginDevice'] = df1['PreferredLoginDevice'].replace({'Phone': 'Mobile Phone'})\n",
    "df1['PreferredPaymentMode'] = df1['PreferredPaymentMode'].replace({'Cash on Delivery': 'COD'})\n",
    "df1['PreferredPaymentMode'] = df1['PreferredPaymentMode'].replace({'CC': 'Credit Card'})\n"
   ]
  },
  {
   "cell_type": "code",
   "execution_count": null,
   "metadata": {
    "colab": {
     "base_uri": "https://localhost:8080/"
    },
    "id": "a2kW-zT7TS1O",
    "outputId": "cd5b63d5-db9f-410b-e7ae-4153594eb31b"
   },
   "outputs": [],
   "source": [
    "for i in df1.columns:\n",
    "    if df1[i].dtypes == 'object':\n",
    "        print(i)\n",
    "        print()\n",
    "        print('the values are:')\n",
    "        print(df1[i].value_counts())\n",
    "        print()\n",
    "        print()"
   ]
  },
  {
   "cell_type": "code",
   "execution_count": null,
   "metadata": {
    "colab": {
     "base_uri": "https://localhost:8080/"
    },
    "id": "DzHOm6upTS1O",
    "outputId": "24b8d38f-c175-4420-8af5-8a0aa1aa3264"
   },
   "outputs": [],
   "source": [
    "df1.dtypes"
   ]
  },
  {
   "cell_type": "code",
   "execution_count": null,
   "metadata": {
    "colab": {
     "base_uri": "https://localhost:8080/",
     "height": 261
    },
    "id": "OWDskNHCTS1O",
    "outputId": "1abbf669-485f-4592-c037-9307d14edabf"
   },
   "outputs": [],
   "source": [
    "df1.head()"
   ]
  },
  {
   "cell_type": "code",
   "execution_count": null,
   "metadata": {
    "colab": {
     "base_uri": "https://localhost:8080/"
    },
    "id": "T6uVwcgrTS1P",
    "outputId": "e3bfcc5f-fb0f-433d-a3e6-b6b94b436a41"
   },
   "outputs": [],
   "source": [
    "print(df1['PreferredLoginDevice'].unique())"
   ]
  },
  {
   "cell_type": "code",
   "execution_count": null,
   "metadata": {
    "colab": {
     "base_uri": "https://localhost:8080/"
    },
    "id": "PNXIcU2WTS1P",
    "outputId": "589fae85-b588-4b80-f61f-08eff9e88978"
   },
   "outputs": [],
   "source": [
    "print(df1['PreferredLoginDevice'].value_counts())"
   ]
  },
  {
   "cell_type": "code",
   "execution_count": null,
   "metadata": {
    "colab": {
     "base_uri": "https://localhost:8080/",
     "height": 70
    },
    "id": "UvXwbGZITS1P",
    "outputId": "d24c4f1e-cf59-415a-c8ef-e6eb53b7c795"
   },
   "outputs": [],
   "source": [
    "'''def dummyEncode(df):\n",
    "        columnsToEncode = ['PreferredLoginDevice','PreferredPaymentMode','PreferedOrderCat','MaritalStatus','Gender']\n",
    "        le = LabelEncoder()\n",
    "        for feature in columnsToEncode:\n",
    "            try:\n",
    "                df[feature] = le.fit_transform(df[feature])\n",
    "            except:\n",
    "                print('Error encoding '+feature)\n",
    "        return df\n",
    "dummyEncode(df1)'''"
   ]
  },
  {
   "cell_type": "code",
   "execution_count": null,
   "metadata": {
    "id": "dvZpKqoLTS1P"
   },
   "outputs": [],
   "source": [
    "from sklearn.preprocessing import OneHotEncoder\n",
    "\n",
    "# Assuming df1 is your dataset\n",
    "# cat_features should contain the categorical features you want to one-hot encode\n",
    "cat_features = ['PreferredLoginDevice','PreferredPaymentMode','PreferedOrderCat','MaritalStatus','Gender']\n",
    "\n",
    "encoded_features = []\n",
    "\n",
    "# Loop through each categorical feature\n",
    "for feature in cat_features:\n",
    "    # One-hot encode the feature\n",
    "    encoded_feat = OneHotEncoder().fit_transform(df1[feature].values.reshape(-1, 1)).toarray()\n",
    "    n = df1[feature].nunique()\n",
    "    cols = ['{}_{}'.format(feature, n) for n in range(1, n + 1)]\n",
    "    encoded_df = pd.DataFrame(encoded_feat, columns=cols)\n",
    "    encoded_df.index = df1.index\n",
    "    encoded_features.append(encoded_df)\n",
    "\n",
    "# Concatenate the encoded features with df1\n",
    "df1_encoded = pd.concat([df1, *encoded_features], axis=1)\n",
    "df1 = df1_encoded\n"
   ]
  },
  {
   "cell_type": "code",
   "execution_count": null,
   "metadata": {
    "colab": {
     "base_uri": "https://localhost:8080/",
     "height": 255
    },
    "id": "QVkxGBwuTS1Q",
    "outputId": "7604fe22-2178-4765-c883-71d1241a9c8f"
   },
   "outputs": [],
   "source": [
    "df1.head()"
   ]
  },
  {
   "cell_type": "code",
   "execution_count": null,
   "metadata": {
    "colab": {
     "base_uri": "https://localhost:8080/"
    },
    "id": "YEgke7-fTS1Q",
    "outputId": "711ae9e3-4770-4d5e-afee-37113f3ea41e"
   },
   "outputs": [],
   "source": [
    "df1.columns"
   ]
  },
  {
   "cell_type": "code",
   "execution_count": null,
   "metadata": {
    "id": "AomvNuGOTS1Q"
   },
   "outputs": [],
   "source": [
    "df1=df1.drop(['CustomerID','PreferredLoginDevice','PreferredPaymentMode','PreferedOrderCat','MaritalStatus','Gender'], axis=1)"
   ]
  },
  {
   "cell_type": "code",
   "execution_count": null,
   "metadata": {
    "colab": {
     "base_uri": "https://localhost:8080/",
     "height": 255
    },
    "id": "86johXfHTS1Q",
    "outputId": "3ff23e75-bbdb-4c3b-d4e1-1ad5df934716"
   },
   "outputs": [],
   "source": [
    "df1.head()"
   ]
  },
  {
   "cell_type": "code",
   "execution_count": null,
   "metadata": {
    "colab": {
     "base_uri": "https://localhost:8080/"
    },
    "id": "KjTD_3hDTS1Q",
    "outputId": "c5696378-8c2c-44ad-9da7-5fbdf47a2534"
   },
   "outputs": [],
   "source": [
    "df1.columns"
   ]
  },
  {
   "cell_type": "code",
   "execution_count": null,
   "metadata": {
    "id": "JqhUAaXlTS1R"
   },
   "outputs": [],
   "source": [
    "x=df1.drop(['Churn'],axis=1)\n",
    "y=df1['Churn']"
   ]
  },
  {
   "cell_type": "code",
   "execution_count": null,
   "metadata": {
    "id": "5a-PoNtdTS1R"
   },
   "outputs": [],
   "source": [
    "from sklearn.model_selection import train_test_split\n",
    "X_train, X_test, Y_train, Y_test = train_test_split(x, y, test_size=0.2, random_state=0)"
   ]
  },
  {
   "cell_type": "code",
   "execution_count": null,
   "metadata": {
    "colab": {
     "base_uri": "https://localhost:8080/"
    },
    "id": "1lQEybdITS1R",
    "outputId": "68a6ba9a-7c6f-4800-ea2c-f372b9292213"
   },
   "outputs": [],
   "source": [
    "# Logistic Regression\n",
    "# machine learning\n",
    "from sklearn import metrics\n",
    "from sklearn.linear_model import LogisticRegression\n",
    "from sklearn.svm import SVC, LinearSVC\n",
    "from sklearn.ensemble import RandomForestClassifier\n",
    "from sklearn.neighbors import KNeighborsClassifier\n",
    "from sklearn.naive_bayes import GaussianNB\n",
    "from sklearn.linear_model import Perceptron\n",
    "from sklearn.linear_model import SGDClassifier\n",
    "from sklearn.tree import DecisionTreeClassifier\n",
    "logreg = LogisticRegression()\n",
    "logreg.fit(X_train, Y_train)\n",
    "Y_pred = logreg.predict(X_test)\n",
    "acc_log = metrics.accuracy_score(Y_test, Y_pred)\n",
    "print(\"Accuracy:\",acc_log)\n",
    "\n",
    "print('Accuracy on training set:',logreg.score(X_train,Y_train))\n",
    "print('Accuracy on test set:',logreg.score(X_test,Y_test))\n",
    "\n",
    "\n",
    "\n",
    "#metrics.accuracy_score(y_train, y_train_pred)\n"
   ]
  },
  {
   "cell_type": "code",
   "execution_count": null,
   "metadata": {
    "colab": {
     "base_uri": "https://localhost:8080/"
    },
    "id": "PFMc6E9fTS1R",
    "outputId": "56df9b82-3852-47bc-f231-e4d2205b68ab"
   },
   "outputs": [],
   "source": [
    "# Support Vector Machines\n",
    "\n",
    "svc = SVC()\n",
    "svc.fit(X_train, Y_train)\n",
    "Y_pred = svc.predict(X_test)\n",
    "acc_svc = metrics.accuracy_score(Y_test, Y_pred)\n",
    "print(\"Accuracy:\",acc_svc)\n"
   ]
  },
  {
   "cell_type": "code",
   "execution_count": null,
   "metadata": {
    "colab": {
     "base_uri": "https://localhost:8080/"
    },
    "id": "zWqZMiirTS1S",
    "outputId": "172c5b32-510a-4e8d-f061-7038f0179c91"
   },
   "outputs": [],
   "source": [
    "knn = KNeighborsClassifier(n_neighbors = 3)\n",
    "knn.fit(X_train, Y_train)\n",
    "Y_pred = knn.predict(X_test)\n",
    "acc_knn = metrics.accuracy_score(Y_test, Y_pred)\n",
    "print(\"Accuracy:\",acc_knn)\n"
   ]
  },
  {
   "cell_type": "code",
   "execution_count": null,
   "metadata": {
    "colab": {
     "base_uri": "https://localhost:8080/"
    },
    "id": "IsYk9ytuTS1S",
    "outputId": "5493bfb0-aa8c-4d89-bf57-729f865c9af4"
   },
   "outputs": [],
   "source": [
    "# Gaussian Naive Bayes\n",
    "\n",
    "gaussian = GaussianNB()\n",
    "gaussian.fit(X_train, Y_train)\n",
    "Y_pred = gaussian.predict(X_test)\n",
    "acc_gaussian = metrics.accuracy_score(Y_test, Y_pred)\n",
    "print(\"Accuracy:\",acc_gaussian)\n",
    "\n",
    "\n",
    "print('Accuracy on training set:',gaussian.score(X_train,Y_train))\n",
    "print('Accuracy on test set:',gaussian.score(X_test,Y_test))\n"
   ]
  },
  {
   "cell_type": "code",
   "execution_count": null,
   "metadata": {
    "colab": {
     "base_uri": "https://localhost:8080/"
    },
    "id": "QnNnHPq_TS1S",
    "outputId": "76c2fcd9-7081-4da0-ce2e-50dbf34a64cf"
   },
   "outputs": [],
   "source": [
    "# Perceptron\n",
    "\n",
    "perceptron = Perceptron()\n",
    "perceptron.fit(X_train, Y_train)\n",
    "Y_pred = perceptron.predict(X_test)\n",
    "acc_perceptron = metrics.accuracy_score(Y_test, Y_pred)\n",
    "print(\"Accuracy:\",acc_perceptron)"
   ]
  },
  {
   "cell_type": "code",
   "execution_count": null,
   "metadata": {
    "colab": {
     "base_uri": "https://localhost:8080/"
    },
    "id": "_CLyjABtTS1S",
    "outputId": "e0d6c5d3-38ce-40e8-9f34-113fe67e17a7"
   },
   "outputs": [],
   "source": [
    "# Linear SVC\n",
    "\n",
    "linear_svc = LinearSVC()\n",
    "linear_svc.fit(X_train, Y_train)\n",
    "Y_pred = linear_svc.predict(X_test)\n",
    "acc_linear_svc = metrics.accuracy_score(Y_test, Y_pred)\n",
    "print(\"Accuracy:\",acc_linear_svc)"
   ]
  },
  {
   "cell_type": "code",
   "execution_count": null,
   "metadata": {
    "colab": {
     "base_uri": "https://localhost:8080/"
    },
    "id": "OjG7RfwiTS1T",
    "outputId": "007a015a-7a05-4bfc-ce75-511f5cc161d9"
   },
   "outputs": [],
   "source": [
    "# Stochastic Gradient Descent\n",
    "\n",
    "sgd = SGDClassifier()\n",
    "sgd.fit(X_train, Y_train)\n",
    "Y_pred = sgd.predict(X_test)\n",
    "acc_sgd = metrics.accuracy_score(Y_test, Y_pred)\n",
    "print(\"Accuracy:\",acc_sgd)"
   ]
  },
  {
   "cell_type": "code",
   "execution_count": null,
   "metadata": {
    "colab": {
     "base_uri": "https://localhost:8080/"
    },
    "id": "ns2I8me3TS1T",
    "outputId": "a9b20b73-60f9-43ce-c6f7-8f31e4486923"
   },
   "outputs": [],
   "source": [
    "# Decision Tree\n",
    "\n",
    "decision_tree = DecisionTreeClassifier()\n",
    "decision_tree.fit(X_train, Y_train)\n",
    "Y_pred = decision_tree.predict(X_test)\n",
    "acc_decision_tree = metrics.accuracy_score(Y_test, Y_pred)\n",
    "print(\"Accuracy:\",acc_decision_tree)\n",
    "\n",
    "print('Accuracy on training set:',decision_tree.score(X_train,Y_train))\n",
    "print('Accuracy on test set:',decision_tree.score(X_test,Y_test))"
   ]
  },
  {
   "cell_type": "code",
   "execution_count": null,
   "metadata": {
    "colab": {
     "base_uri": "https://localhost:8080/"
    },
    "id": "cx_gLIBSTS1T",
    "outputId": "fa337633-78ff-416c-c1be-0be6001aff52"
   },
   "outputs": [],
   "source": [
    "# Random Forest\n",
    "\n",
    "random_forest = RandomForestClassifier(n_estimators=100)\n",
    "random_forest.fit(X_train, Y_train)\n",
    "Y_pred = random_forest.predict(X_test)\n",
    "random_forest.score(X_train, Y_train)\n",
    "acc_random_forest = metrics.accuracy_score(Y_test, Y_pred)\n",
    "print(\"Accuracy:\",acc_random_forest)\n",
    "\n",
    "print('Accuracy on training set:',random_forest.score(X_train,Y_train))\n",
    "print('Accuracy on test set:',random_forest.score(X_test,Y_test))"
   ]
  },
  {
   "cell_type": "code",
   "execution_count": null,
   "metadata": {
    "colab": {
     "base_uri": "https://localhost:8080/",
     "height": 331
    },
    "id": "QE6bEBzsTS1U",
    "outputId": "56e3444d-5c29-4321-855f-74cb3309d2b7"
   },
   "outputs": [],
   "source": [
    "models = pd.DataFrame({\n",
    "    'Model': ['Support Vector Machines', 'KNN', 'Logistic Regression',\n",
    "              'Random Forest', 'Naive Bayes', 'Perceptron',\n",
    "              'Stochastic Gradient Decent', 'Linear SVC',\n",
    "              'Decision Tree'],\n",
    "    'Testing Accuracy': [acc_svc, acc_knn, acc_log,\n",
    "              acc_random_forest, acc_gaussian, acc_perceptron,\n",
    "              acc_sgd, acc_linear_svc, acc_decision_tree]})\n",
    "models.sort_values(by='Testing Accuracy', ascending=False)"
   ]
  },
  {
   "cell_type": "markdown",
   "metadata": {
    "id": "TD1MSbltTS1U"
   },
   "source": [
    "trying out cross validation"
   ]
  },
  {
   "cell_type": "code",
   "execution_count": null,
   "metadata": {
    "id": "0RWdwx2TTS1U"
   },
   "outputs": [],
   "source": [
    "#cross validation\n",
    "from sklearn.model_selection import StratifiedKFold, cross_val_score\n",
    "skfcv=StratifiedKFold(n_splits=5)"
   ]
  },
  {
   "cell_type": "code",
   "execution_count": null,
   "metadata": {
    "colab": {
     "base_uri": "https://localhost:8080/"
    },
    "id": "uQLEx2NFTS1V",
    "outputId": "0795d630-1098-40f9-dce2-dad5d0823ce5"
   },
   "outputs": [],
   "source": [
    "pip install fancyimpute"
   ]
  },
  {
   "cell_type": "code",
   "execution_count": null,
   "metadata": {
    "colab": {
     "base_uri": "https://localhost:8080/"
    },
    "id": "j1OOC_t8UEUI",
    "outputId": "220c161d-4cc2-4b28-c5fb-776ba702c6d6"
   },
   "outputs": [],
   "source": [
    "!pip install scikit-optimize"
   ]
  },
  {
   "cell_type": "code",
   "execution_count": null,
   "metadata": {
    "colab": {
     "base_uri": "https://localhost:8080/"
    },
    "id": "riCBn4cNTS1V",
    "outputId": "8d83d9ec-ea27-4c95-b2c8-b73dcea50456"
   },
   "outputs": [],
   "source": [
    "from sklearn.model_selection import cross_val_score\n",
    "from sklearn.pipeline import Pipeline\n",
    "from sklearn.preprocessing import StandardScaler\n",
    "from sklearn.linear_model import LogisticRegression\n",
    "from fancyimpute import IterativeImputer\n",
    "from skopt import BayesSearchCV\n",
    "\n",
    "# Assuming X_train and Y_train are already defined\n",
    "# Build logistic regression pipeline\n",
    "log_pipe = Pipeline([\n",
    "    ('imputer', IterativeImputer(random_state=0)),\n",
    "    ('scaler', StandardScaler()),\n",
    "    ('logreg', LogisticRegression())\n",
    "])\n",
    "\n",
    "# Cross-validate logistic regression model\n",
    "print(f\"Cross-validation score for Logistic Regression: {np.mean(cross_val_score(log_pipe, X_train, Y_train, cv=skfcv, scoring='f1'))}\")"
   ]
  },
  {
   "cell_type": "code",
   "execution_count": null,
   "metadata": {
    "colab": {
     "base_uri": "https://localhost:8080/"
    },
    "id": "RVafBPQ5KWHO",
    "outputId": "df98b911-a71b-45a5-ea57-3015998d21bf"
   },
   "outputs": [],
   "source": [
    "df1.dtypes"
   ]
  },
  {
   "cell_type": "code",
   "execution_count": null,
   "metadata": {
    "colab": {
     "base_uri": "https://localhost:8080/"
    },
    "id": "qck9mi9tKaGq",
    "outputId": "67c4a9df-f70b-4571-9758-71c496d243fd"
   },
   "outputs": [],
   "source": [
    "df.dtypes"
   ]
  },
  {
   "cell_type": "markdown",
   "metadata": {
    "id": "9EsB-VL1KVCM"
   },
   "source": []
  },
  {
   "cell_type": "markdown",
   "metadata": {
    "id": "UILeukWTJ-Pt"
   },
   "source": [
    "The chi-square test can be used in feature selection to check the dependence between two categorical variables.\n",
    "\n"
   ]
  },
  {
   "cell_type": "code",
   "execution_count": null,
   "metadata": {
    "colab": {
     "base_uri": "https://localhost:8080/"
    },
    "id": "SORWbpqyTS1V",
    "outputId": "f41cdab7-e290-4c22-f406-7ee7da58b42c"
   },
   "outputs": [],
   "source": [
    "from scipy.stats import chi2_contingency\n",
    "\n",
    "cat_features = df.select_dtypes(include=['object']).columns\n",
    "\n",
    "for feature in cat_features:\n",
    "    cross_tab = pd.crosstab(df[feature], df['Churn'])\n",
    "    stat, p, dof, expected = chi2_contingency(cross_tab)\n",
    "    print(f\"{feature}: Chi-square Statistic = {stat}, p-value = {p}\")\n",
    "\n",
    "    alpha = 0.05\n",
    "    if p > alpha:\n",
    "        print(f\"{feature} is NOT significantly related to churn\")\n",
    "    else:\n",
    "        print(f\"{feature} is significantly related to churn\")"
   ]
  },
  {
   "cell_type": "markdown",
   "metadata": {
    "id": "rRoa2hV2LTxj"
   },
   "source": [
    "The results of the chi-square test show that the PreferredLoginDevice, PreferredPaymentMode, Gender, PreferedOrderCat, and MaritalStatus features are all significantly related to churn. The p-values for each feature are well below the threshold of 0.05, indicating that there is a statistically significant relationship between each of these features and churn.\n",
    "\n",
    "The PreferredLoginDevice feature has the highest chi-square statistic value, suggesting that the choice of login device is highly related to churn. Similarly, the PreferredPaymentMode feature also has a high chi-square statistic value, indicating that the choice of payment mode is also significantly related to churn.\n",
    "\n",
    "Gender, PreferedOrderCat, and MaritalStatus also have significant chi-square statistic values and p-values, suggesting that these features also play a role in determining churn. These results highlight the importance of considering the effects of demographic factors, such as gender and marital status, as well as customer preferences, such as login device and payment mode, when analyzing churn."
   ]
  },
  {
   "cell_type": "code",
   "execution_count": null,
   "metadata": {
    "id": "v4hGov9fLBTf"
   },
   "outputs": [],
   "source": [
    "X_scaled = StandardScaler().fit_transform(df[num_cols])\n",
    "df[num_cols] = pd.DataFrame(X_scaled, columns=df[num_cols].columns)"
   ]
  },
  {
   "cell_type": "code",
   "execution_count": null,
   "metadata": {
    "id": "v_f5lrwgL3sq"
   },
   "outputs": [],
   "source": [
    "y = df[\"Churn\"]\n",
    "X = df.drop([\"Churn\"], axis=1)"
   ]
  },
  {
   "cell_type": "markdown",
   "metadata": {
    "id": "vShHHchgMyQp"
   },
   "source": [
    "fine tuning\n"
   ]
  },
  {
   "cell_type": "code",
   "execution_count": null,
   "metadata": {
    "id": "tTWXz-H2NHRb"
   },
   "outputs": [],
   "source": [
    "from xgboost import XGBClassifier"
   ]
  },
  {
   "cell_type": "markdown",
   "metadata": {
    "id": "AV8E_EPTaYvu"
   },
   "source": [
    "fine tuning and cross validation-  dt and rf since they are best performing models\n"
   ]
  },
  {
   "cell_type": "code",
   "execution_count": null,
   "metadata": {
    "colab": {
     "base_uri": "https://localhost:8080/"
    },
    "id": "1_9GUkkoOZuD",
    "outputId": "4e2eeb6f-62c0-4e1b-9d77-bbb26e6538c2"
   },
   "outputs": [],
   "source": [
    "from sklearn.model_selection import GridSearchCV, RandomizedSearchCV\n",
    "import time\n",
    "\n",
    "param_grid = {\n",
    "    'max_depth': [3, 5, 7, 10],\n",
    "    'min_samples_split': [2, 5, 10],\n",
    "    'min_samples_leaf': [1, 2, 4],\n",
    "    'max_features': ['auto', 'sqrt', 'log2']\n",
    "}\n",
    "dt_classifier = DecisionTreeClassifier(random_state=42)\n",
    "grid_search = GridSearchCV(estimator=dt_classifier, param_grid=param_grid, cv=5, scoring='accuracy', n_jobs=-1)\n",
    "grid_search.fit(X_train, Y_train)\n",
    "\n",
    "# Get the best parameters\n",
    "best_params = grid_search.best_params_\n",
    "print(\"Best Parameters:\", best_params)\n",
    "\n",
    "# Train the decision tree classifier with the best parameters\n",
    "best_dt_classifier = DecisionTreeClassifier(random_state=42, **best_params)\n",
    "best_dt_classifier.fit(X_train, Y_train)\n",
    "\n",
    "# Predict on the test set\n",
    "y_pred = best_dt_classifier.predict(X_test)\n",
    "\n",
    "# Calculate accuracy on the test set\n",
    "#accuracy = accuracy_score(Y_test, y_pred)\n",
    "#print(\"Test Accuracy:\", accuracy)\n",
    "\n",
    "acc_decision_tree = round(best_dt_classifier.score(X_train, Y_train) * 100, 2)\n",
    "acc_decision_tree"
   ]
  },
  {
   "cell_type": "code",
   "execution_count": null,
   "metadata": {
    "colab": {
     "base_uri": "https://localhost:8080/"
    },
    "id": "O5Bi9tIiasyZ",
    "outputId": "bccac852-cda0-4d76-86cf-8b959cb0f374"
   },
   "outputs": [],
   "source": [
    "from sklearn.model_selection import KFold, cross_val_score\n",
    "\n",
    "k_folds = KFold(n_splits = 5)\n",
    "\n",
    "scores = cross_val_score(best_dt_classifier, X_train, Y_train, cv = k_folds)\n",
    "\n",
    "print(\"Cross Validation Scores: \", scores)\n",
    "print(\"Average CV Score: \", scores.mean())\n",
    "print(\"Number of CV Scores used in Average: \", len(scores))"
   ]
  },
  {
   "cell_type": "code",
   "execution_count": null,
   "metadata": {
    "colab": {
     "base_uri": "https://localhost:8080/"
    },
    "id": "hb5OEoBxayKG",
    "outputId": "3eda360e-74c9-48ae-ed96-85ad7a51838c"
   },
   "outputs": [],
   "source": [
    "param_grid = {\n",
    "    'max_depth': [3, 5, 7, 10],\n",
    "    'min_samples_split': [2, 5, 10],\n",
    "    'min_samples_leaf': [1, 2, 4],\n",
    "    'max_features': ['auto', 'sqrt', 'log2']\n",
    "}\n",
    "rf = RandomForestClassifier(n_estimators=100)\n",
    "grid_search = GridSearchCV(estimator=rf, param_grid=param_grid, cv=5, scoring='accuracy', n_jobs=-1)\n",
    "grid_search.fit(X_train, Y_train)\n",
    "\n",
    "# Get the best parameters\n",
    "best_params = grid_search.best_params_\n",
    "print(\"Best Parameters:\", best_params)\n",
    "\n",
    "# Train the decision tree classifier with the best parameters\n",
    "best_rf_classifier = RandomForestClassifier(n_estimators=100, **best_params)\n",
    "best_rf_classifier.fit(X_train, Y_train)\n",
    "\n",
    "# Predict on the test set\n",
    "y_pred = best_rf_classifier.predict(X_test)\n",
    "\n",
    "# Calculate accuracy on the test set\n",
    "#accuracy = accuracy_score(Y_test, y_pred)\n",
    "#print(\"Test Accuracy:\", accuracy)\n",
    "\n",
    "acc_random_forest = round(best_rf_classifier.score(X_train, Y_train) * 100, 2)\n",
    "acc_random_forest"
   ]
  },
  {
   "cell_type": "code",
   "execution_count": null,
   "metadata": {
    "colab": {
     "base_uri": "https://localhost:8080/"
    },
    "id": "uCoU3wAra1LZ",
    "outputId": "50a62cc1-89e0-4e0e-c064-f0cbd36f6560"
   },
   "outputs": [],
   "source": [
    "from sklearn.model_selection import KFold, cross_val_score\n",
    "\n",
    "k_folds = KFold(n_splits = 5)\n",
    "\n",
    "scores = cross_val_score(best_rf_classifier, X_train, Y_train, cv = k_folds)\n",
    "\n",
    "print(\"Cross Validation Scores: \", scores)\n",
    "print(\"Average CV Score: \", scores.mean())\n",
    "print(\"Number of CV Scores used in Average: \", len(scores))"
   ]
  },
  {
   "cell_type": "markdown",
   "metadata": {
    "id": "DvXvzLCWde14"
   },
   "source": [
    "handling target variable imbalance- SMOTE"
   ]
  },
  {
   "cell_type": "code",
   "execution_count": null,
   "metadata": {
    "id": "mzz0RmM5bKte"
   },
   "outputs": [],
   "source": [
    "x_train_smote = X_train.copy()\n",
    "y_train_smote = Y_train.copy()"
   ]
  },
  {
   "cell_type": "code",
   "execution_count": null,
   "metadata": {
    "colab": {
     "base_uri": "https://localhost:8080/"
    },
    "id": "lb9moXuvdCVB",
    "outputId": "83f5696d-8590-400b-d34d-44e3a5aabb1f"
   },
   "outputs": [],
   "source": [
    "from imblearn.over_sampling import SMOTE\n",
    "print(\"Before OverSampling- counts of label '1': {}\".format(sum(y==1)))\n",
    "print(\"Before OverSampling- counts of label '0': {} \\n\".format(sum(y==0)))\n",
    "print(\"*******************************************************************\")\n",
    "\n",
    "sm = SMOTE(random_state=100)\n",
    "x_train_smote, y_train_smote = sm.fit_resample(x_train_smote, y_train_smote.ravel())\n",
    "\n",
    "print('After OverSampling with SMOTE- x_train: {}'.format(x_train_smote.shape))\n",
    "print('After OverSampling with SMOTE- y_train: {} \\n'.format(y_train_smote.shape))\n",
    "\n",
    "print(\"After OverSampling with SMOTE- counts of label '1': {}\".format(sum(y_train_smote==1)))\n",
    "print(\"After OverSampling with SMOTE- counts of label '0': {}\".format(sum(y_train_smote==0)))"
   ]
  },
  {
   "cell_type": "code",
   "execution_count": null,
   "metadata": {
    "colab": {
     "base_uri": "https://localhost:8080/"
    },
    "id": "-zoX8S4ydMXs",
    "outputId": "794c47fa-bfec-4899-d583-3a8c9b0b53fd"
   },
   "outputs": [],
   "source": [
    "# Decision Tree\n",
    "\n",
    "decision_tree = DecisionTreeClassifier()\n",
    "decision_tree.fit(x_train_smote, y_train_smote)\n",
    "Y_pred = decision_tree.predict(X_test)\n",
    "acc_decision_tree = metrics.accuracy_score(Y_test, Y_pred)\n",
    "print(\"Accuracy:\",acc_decision_tree)\n",
    "\n",
    "print('Accuracy on training set:',decision_tree.score(x_train_smote,y_train_smote))\n",
    "print('Accuracy on test set:',decision_tree.score(X_test,Y_test))"
   ]
  },
  {
   "cell_type": "code",
   "execution_count": null,
   "metadata": {
    "colab": {
     "base_uri": "https://localhost:8080/"
    },
    "id": "fMP_0UbneAUj",
    "outputId": "bc092fc3-6c87-4495-fb7b-82984cf4649d"
   },
   "outputs": [],
   "source": [
    "# Random Forest\n",
    "\n",
    "random_forest = RandomForestClassifier(n_estimators=100)\n",
    "random_forest.fit(x_train_smote, y_train_smote)\n",
    "Y_pred = random_forest.predict(X_test)\n",
    "random_forest.score(x_train_smote, y_train_smote)\n",
    "acc_random_forest = metrics.accuracy_score(Y_test, Y_pred)\n",
    "print(\"Accuracy:\",acc_random_forest)\n",
    "\n",
    "print('Accuracy on training set:',random_forest.score(x_train_smote,y_train_smote))\n",
    "print('Accuracy on test set:',random_forest.score(X_test,Y_test))"
   ]
  },
  {
   "cell_type": "code",
   "execution_count": null,
   "metadata": {
    "colab": {
     "base_uri": "https://localhost:8080/"
    },
    "id": "fanoQqdqh2Up",
    "outputId": "b2ca4360-7488-4089-c0ed-f718042717f9"
   },
   "outputs": [],
   "source": [
    "from sklearn.model_selection import GridSearchCV, RandomizedSearchCV\n",
    "import time\n",
    "\n",
    "param_grid = {\n",
    "    'max_depth': [3, 5, 7, 10],\n",
    "    'min_samples_split': [2, 5, 10],\n",
    "    'min_samples_leaf': [1, 2, 4],\n",
    "    'max_features': ['auto', 'sqrt', 'log2']\n",
    "}\n",
    "dt_classifier = DecisionTreeClassifier(random_state=42)\n",
    "grid_search = GridSearchCV(estimator=dt_classifier, param_grid=param_grid, cv=5, scoring='accuracy', n_jobs=-1)\n",
    "grid_search.fit(x_train_smote, y_train_smote)\n",
    "\n",
    "# Get the best parameters\n",
    "best_params = grid_search.best_params_\n",
    "print(\"Best Parameters:\", best_params)\n",
    "\n",
    "# Train the decision tree classifier with the best parameters\n",
    "best_dt_classifier = DecisionTreeClassifier(random_state=42, **best_params)\n",
    "best_dt_classifier.fit(x_train_smote, y_train_smote)\n",
    "\n",
    "# Predict on the test set\n",
    "y_pred_dt = best_dt_classifier.predict(X_test)\n",
    "\n",
    "# Calculate accuracy on the test set\n",
    "#accuracy = accuracy_score(Y_test, y_pred)\n",
    "#print(\"Test Accuracy:\", accuracy)\n",
    "\n",
    "acc_decision_tree = round(best_dt_classifier.score(x_train_smote, y_train_smote) * 100, 2)\n",
    "acc_decision_tree"
   ]
  },
  {
   "cell_type": "code",
   "execution_count": null,
   "metadata": {
    "colab": {
     "base_uri": "https://localhost:8080/"
    },
    "id": "Ia8JKg2MiWRv",
    "outputId": "6316b4ac-7c51-47da-c7ca-e13fbd91aaa5"
   },
   "outputs": [],
   "source": [
    "from sklearn.model_selection import KFold, cross_val_score\n",
    "\n",
    "k_folds = KFold(n_splits = 5)\n",
    "\n",
    "scores = cross_val_score(best_dt_classifier, x_train_smote, y_train_smote, cv = k_folds)\n",
    "\n",
    "print(\"Cross Validation Scores: \", scores)\n",
    "print(\"Average CV Score: \", scores.mean())\n",
    "print(\"Number of CV Scores used in Average: \", len(scores))"
   ]
  },
  {
   "cell_type": "code",
   "execution_count": null,
   "metadata": {
    "colab": {
     "base_uri": "https://localhost:8080/"
    },
    "id": "6tRyAouhigIE",
    "outputId": "0846282b-f812-4487-8ba1-90b28fe2b957"
   },
   "outputs": [],
   "source": [
    "param_grid = {\n",
    "    'max_depth': [3, 5, 7, 10],\n",
    "    'min_samples_split': [2, 5, 10],\n",
    "    'min_samples_leaf': [1, 2, 4],\n",
    "    'max_features': ['auto', 'sqrt', 'log2']\n",
    "}\n",
    "rf = RandomForestClassifier(n_estimators=100)\n",
    "grid_search = GridSearchCV(estimator=rf, param_grid=param_grid, cv=5, scoring='accuracy', n_jobs=-1)\n",
    "grid_search.fit(x_train_smote, y_train_smote)\n",
    "\n",
    "# Get the best parameters\n",
    "best_params = grid_search.best_params_\n",
    "print(\"Best Parameters:\", best_params)\n",
    "\n",
    "# Train the decision tree classifier with the best parameters\n",
    "best_rf_classifier = RandomForestClassifier(n_estimators=100, **best_params)\n",
    "best_rf_classifier.fit(x_train_smote, y_train_smote)\n",
    "\n",
    "# Predict on the test set\n",
    "y_pred_rf = best_rf_classifier.predict(X_test)\n",
    "\n",
    "# Calculate accuracy on the test set\n",
    "#accuracy = accuracy_score(Y_test, y_pred)\n",
    "#print(\"Test Accuracy:\", accuracy)\n",
    "\n",
    "acc_random_forest = round(best_rf_classifier.score(x_train_smote, y_train_smote) * 100, 2)\n",
    "acc_random_forest"
   ]
  },
  {
   "cell_type": "code",
   "execution_count": null,
   "metadata": {
    "colab": {
     "base_uri": "https://localhost:8080/"
    },
    "id": "J56K5Qzfi7a6",
    "outputId": "2e735b2c-ad26-4231-ee46-ab13dab3455a"
   },
   "outputs": [],
   "source": [
    "k_folds = KFold(n_splits = 5)\n",
    "\n",
    "scores = cross_val_score(best_rf_classifier, x_train_smote, y_train_smote, cv = k_folds)\n",
    "\n",
    "print(\"Cross Validation Scores: \", scores)\n",
    "print(\"Average CV Score: \", scores.mean())\n",
    "print(\"Number of CV Scores used in Average: \", len(scores))"
   ]
  },
  {
   "cell_type": "markdown",
   "metadata": {
    "id": "7v_Z4nnpmWfE"
   },
   "source": [
    "different evaluation metrics"
   ]
  },
  {
   "cell_type": "code",
   "execution_count": null,
   "metadata": {
    "colab": {
     "base_uri": "https://localhost:8080/"
    },
    "id": "05E7OPTGmVsv",
    "outputId": "95299748-7470-4e79-cb4e-b7de5a938763"
   },
   "outputs": [],
   "source": [
    "from sklearn.metrics import precision_score,recall_score,f1_score,confusion_matrix,accuracy_score\n",
    "print(f\"Accuracy Score of the dt classifier is: {accuracy_score(Y_test, y_pred_dt)}\")\n",
    "\n",
    "print(f\"Precision Score of the dt classifier is: {precision_score(Y_test, y_pred_dt)}\")\n",
    "print(f\"Recall Score of the dt classifier is: {recall_score(Y_test, y_pred_dt)}\")\n",
    "print(f\"f1 Score of the dt classifier is: {f1_score(Y_test, y_pred_dt)}\")\n",
    "print(confusion_matrix(Y_test, y_pred_dt))\n"
   ]
  },
  {
   "cell_type": "code",
   "execution_count": null,
   "metadata": {
    "colab": {
     "base_uri": "https://localhost:8080/"
    },
    "id": "ggAG3PAOnAsJ",
    "outputId": "0841695d-462b-407f-b21d-ccd444e5a0ba"
   },
   "outputs": [],
   "source": [
    "from sklearn.metrics import precision_score,recall_score\n",
    "print(f\"Accuracy Score of the rf classifier is: {accuracy_score(Y_test, y_pred_rf)}\")\n",
    "\n",
    "print(f\"Precision Score of the rf classifier is: {precision_score(Y_test, y_pred_rf)}\")\n",
    "print(f\"Recall Score of the rf classifier is: {recall_score(Y_test, y_pred_rf)}\")\n",
    "print(f\"f1 Score of the rf classifier is: {f1_score(Y_test, y_pred_rf)}\")\n",
    "print(confusion_matrix(Y_test, y_pred_rf))\n"
   ]
  },
  {
   "cell_type": "markdown",
   "metadata": {
    "id": "bGeuVo4bk1P4"
   },
   "source": [
    "trying out more models - add here"
   ]
  },
  {
   "cell_type": "code",
   "execution_count": null,
   "metadata": {
    "id": "u7kNx8mAljoK"
   },
   "outputs": [],
   "source": [
    "\n"
   ]
  }
 ],
 "metadata": {
  "colab": {
   "provenance": []
  },
  "kernelspec": {
   "display_name": "Python 3 (ipykernel)",
   "language": "python",
   "name": "python3"
  },
  "language_info": {
   "codemirror_mode": {
    "name": "ipython",
    "version": 3
   },
   "file_extension": ".py",
   "mimetype": "text/x-python",
   "name": "python",
   "nbconvert_exporter": "python",
   "pygments_lexer": "ipython3",
   "version": "3.11.4"
  }
 },
 "nbformat": 4,
 "nbformat_minor": 1
}
